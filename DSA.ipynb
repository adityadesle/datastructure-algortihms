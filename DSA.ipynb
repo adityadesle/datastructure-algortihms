{
 "cells": [
  {
   "cell_type": "markdown",
   "metadata": {},
   "source": [
    "# Recursion"
   ]
  },
  {
   "cell_type": "code",
   "execution_count": 1,
   "metadata": {},
   "outputs": [
    {
     "name": "stdout",
     "output_type": "stream",
     "text": [
      "third method\n",
      "second method\n",
      "First method\n"
     ]
    }
   ],
   "source": [
    "def firstmethod():                                 #here the methods are placed in the order of stack and printed in the order of FILO\n",
    "    secondmethod()\n",
    "    print(\"First method\")\n",
    "    \n",
    "def secondmethod():\n",
    "    thirdmethod()\n",
    "    print(\"second method\")\n",
    "    \n",
    "def thirdmethod():\n",
    "    print(\"third method\")\n",
    "    \n",
    "firstmethod()    "
   ]
  },
  {
   "cell_type": "code",
   "execution_count": 3,
   "metadata": {},
   "outputs": [
    {
     "name": "stdout",
     "output_type": "stream",
     "text": [
      "0 less than 1\n",
      "1\n",
      "2\n",
      "3\n",
      "4\n"
     ]
    }
   ],
   "source": [
    "def recursionmethod(n):                            #here the recursive method is stored in a stack and printed out in the end\n",
    "    if n<1:\n",
    "        print(n,\"less than 1\")\n",
    "    else:\n",
    "        recursionmethod(n-1)\n",
    "        print(n)\n",
    "        \n",
    "        \n",
    "recursionmethod(4)        "
   ]
  },
  {
   "cell_type": "markdown",
   "metadata": {},
   "source": [
    " # Recursion vs Iteration"
   ]
  },
  {
   "cell_type": "code",
   "execution_count": 13,
   "metadata": {},
   "outputs": [
    {
     "data": {
      "text/plain": [
       "8"
      ]
     },
     "execution_count": 13,
     "metadata": {},
     "output_type": "execute_result"
    }
   ],
   "source": [
    "#recursion\n",
    "\n",
    "def poweroftwo(n):\n",
    "    if n==0:\n",
    "        return True\n",
    "    \n",
    "    else:\n",
    "        \n",
    "        power = poweroftwo(n-1)\n",
    "        return power*2\n",
    "    \n",
    "poweroftwo(2)    \n",
    "\n",
    "#iteration\n",
    "\n",
    "def poweroftwoit(n):\n",
    "    i=0\n",
    "    power=1\n",
    "    \n",
    "    while i<n:\n",
    "        power = power*2\n",
    "        i = i+1\n",
    "    return power\n",
    "\n",
    "poweroftwoit(3)"
   ]
  },
  {
   "cell_type": "markdown",
   "metadata": {},
   "source": [
    "# Factorial "
   ]
  },
  {
   "cell_type": "code",
   "execution_count": 19,
   "metadata": {},
   "outputs": [
    {
     "data": {
      "text/plain": [
       "6"
      ]
     },
     "execution_count": 19,
     "metadata": {},
     "output_type": "execute_result"
    }
   ],
   "source": [
    "def fact(n):\n",
    "    assert n>=0 and int(n)==n ,'The number must be positive'\n",
    "    if n==0:\n",
    "        return 1\n",
    "    \n",
    "    else:\n",
    "        return n * fact(n-1)\n",
    "\n",
    "fact(3)    "
   ]
  },
  {
   "cell_type": "markdown",
   "metadata": {},
   "source": [
    "# Fibonacci "
   ]
  },
  {
   "cell_type": "code",
   "execution_count": 7,
   "metadata": {},
   "outputs": [
    {
     "name": "stdout",
     "output_type": "stream",
     "text": [
      "1 : 1\n",
      "2 : 1\n",
      "3 : 2\n",
      "4 : 3\n",
      "5 : 5\n",
      "6 : 8\n",
      "7 : 13\n",
      "8 : 21\n",
      "9 : 34\n",
      "10 : 55\n"
     ]
    }
   ],
   "source": [
    "def fibonacci(n):\n",
    "    assert n>=0 and int(n)==n ,'The number must be integer and non negative'\n",
    "    if n in [0,1]:\n",
    "        return n\n",
    "    \n",
    "    else:\n",
    "        \n",
    "        return fibonacci(n-1)+fibonacci(n-2)\n",
    "    \n",
    "for n in range(1,11):\n",
    "    print(n,\":\",fibonacci(n))\n",
    "#fibonacci(4)    "
   ]
  },
  {
   "cell_type": "markdown",
   "metadata": {},
   "source": [
    "# find sum of digits of positive integer"
   ]
  },
  {
   "cell_type": "code",
   "execution_count": 10,
   "metadata": {},
   "outputs": [
    {
     "data": {
      "text/plain": [
       "4"
      ]
     },
     "execution_count": 10,
     "metadata": {},
     "output_type": "execute_result"
    }
   ],
   "source": [
    "def sumofdigits(n):\n",
    "    assert n>=0 and int(n)==n,\"The number should be greater than 0\"\n",
    "    if n==0:\n",
    "        return 0\n",
    "    else:\n",
    "        return int(n%10) +sumofdigits(int(n/10))\n",
    "\n",
    "sumofdigits(112)"
   ]
  },
  {
   "cell_type": "markdown",
   "metadata": {},
   "source": [
    "# power of number"
   ]
  },
  {
   "cell_type": "code",
   "execution_count": 15,
   "metadata": {},
   "outputs": [
    {
     "data": {
      "text/plain": [
       "16"
      ]
     },
     "execution_count": 15,
     "metadata": {},
     "output_type": "execute_result"
    }
   ],
   "source": [
    "def powerof(base,exp):\n",
    "    if exp == 0:\n",
    "        return 1\n",
    "    if exp == 1:\n",
    "        return base\n",
    "    \n",
    "    else:\n",
    "        \n",
    "        return base*powerof(base,exp-1)\n",
    "\n",
    "powerof(2,4)    "
   ]
  },
  {
   "cell_type": "markdown",
   "metadata": {},
   "source": [
    "# GCD of number"
   ]
  },
  {
   "cell_type": "code",
   "execution_count": 3,
   "metadata": {},
   "outputs": [
    {
     "data": {
      "text/plain": [
       "4"
      ]
     },
     "execution_count": 3,
     "metadata": {},
     "output_type": "execute_result"
    }
   ],
   "source": [
    "def gcd(a,b):\n",
    "    assert int(a) == a and int(b)==b , 'the number must be integer'\n",
    "    if a < 0:\n",
    "        a = -1*a\n",
    "    \n",
    "    if b < 0:\n",
    "        b = -1 * b\n",
    "    \n",
    "    if b ==0:\n",
    "        return a\n",
    "    \n",
    "    \n",
    "    else:\n",
    "        return gcd(b,a%b)\n",
    " \n",
    "gcd(8,12)"
   ]
  },
  {
   "cell_type": "markdown",
   "metadata": {},
   "source": [
    "# decimal to binary"
   ]
  },
  {
   "cell_type": "code",
   "execution_count": null,
   "metadata": {},
   "outputs": [],
   "source": [
    "#for converting number from decimal to binary we need to divide number by 2 and divide the quotient by 2until quotient get zero. And all the remainders are our output in upside down form\n",
    "\n",
    "\n",
    "def decimaltobinary(n):\n",
    "    \n",
    "    if n == 0:\n",
    "        return 1\n",
    "    \n",
    "    else:\n",
    "        return (n%2 + 10 * decimaltobinary((int n/2))\n",
    "    \n",
    "decimaltobinary(10)    "
   ]
  }
 ],
 "metadata": {
  "kernelspec": {
   "display_name": "Python 3",
   "language": "python",
   "name": "python3"
  },
  "language_info": {
   "codemirror_mode": {
    "name": "ipython",
    "version": 3
   },
   "file_extension": ".py",
   "mimetype": "text/x-python",
   "name": "python",
   "nbconvert_exporter": "python",
   "pygments_lexer": "ipython3",
   "version": "3.8.5"
  }
 },
 "nbformat": 4,
 "nbformat_minor": 4
}
